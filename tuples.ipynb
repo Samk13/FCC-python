{
 "cells": [
  {
   "cell_type": "code",
   "execution_count": 3,
   "id": "f55303ae",
   "metadata": {},
   "outputs": [],
   "source": [
    "%config IPCompleter.greedy=True"
   ]
  },
  {
   "cell_type": "code",
   "execution_count": 1,
   "id": "d5028565",
   "metadata": {},
   "outputs": [
    {
     "name": "stdout",
     "output_type": "stream",
     "text": [
      "c 22\n",
      "b 1\n",
      "a 10\n",
      "[('c', 22), ('b', 1), ('a', 10)]\n"
     ]
    }
   ],
   "source": [
    "\n",
    "\n",
    "d = { 'b':1, 'c': 22,'a': 10}\n",
    "dict_items = ([('b',1), ('c', 22),('a', 10), ])\n",
    "for k,v in sorted(d.items(), reverse=True):\n",
    "    print(k, v)\n",
    "print(sorted(d.items(), reverse=True))"
   ]
  },
  {
   "cell_type": "markdown",
   "id": "ecb437ef",
   "metadata": {},
   "source": [
    "\n",
    "### Which does the same thing as the following code?:"
   ]
  },
  {
   "cell_type": "code",
   "execution_count": 8,
   "id": "d6878ae5",
   "metadata": {},
   "outputs": [
    {
     "name": "stdout",
     "output_type": "stream",
     "text": [
      "[(1223, 'd'), (432, 'f'), (123, 'b'), (12, 'a')]\n"
     ]
    }
   ],
   "source": [
    "lst = []\n",
    "counts = {'a': 12, 'b':123, 'd':1223, 'f':432}\n",
    "\n",
    "for key, val in counts.items():\n",
    "    newtup = (val, key)\n",
    "    lst.append(newtup)\n",
    "lst = sorted(lst, reverse=True)\n",
    "print(lst)"
   ]
  },
  {
   "cell_type": "markdown",
   "id": "0d7a83c1",
   "metadata": {},
   "source": [
    "### sorting object:"
   ]
  },
  {
   "cell_type": "code",
   "execution_count": 3,
   "id": "eb12c6a3",
   "metadata": {},
   "outputs": [
    {
     "name": "stdout",
     "output_type": "stream",
     "text": [
      "{'d': 1223, 'f': 432, 'b': 123, 'a': 12}\n"
     ]
    }
   ],
   "source": [
    "isReverse = not False\n",
    "counts = {'a': 12, 'b':123, 'd':1223, 'f':432}\n",
    "res = dict()\n",
    "for x,y in sorted( [ (v,k) for k,v in counts.items()], reverse=isReverse ):\n",
    "    res[y] = res.get(y,x)\n",
    "print(res)"
   ]
  },
  {
   "cell_type": "code",
   "execution_count": 4,
   "id": "2d7c5daf",
   "metadata": {},
   "outputs": [
    {
     "name": "stdout",
     "output_type": "stream",
     "text": [
      "COUNTS:  {'a': 12, 'b': 123, 'd': 1223, 'f': 432, 'postId': 500, 'id': 500, 'name': 500, 'email': 500, 'body': 500}\n"
     ]
    }
   ],
   "source": [
    "import json\n",
    "\n",
    "with open('comments.json') as json_file:\n",
    "    data = json.load(json_file)\n",
    "    for d in data:\n",
    "        for p, n in d.items():\n",
    "            counts[p] = counts.get(p, 0) + 1\n",
    "print('COUNTS: ', counts)"
   ]
  },
  {
   "cell_type": "code",
   "execution_count": 5,
   "id": "d804a03d",
   "metadata": {},
   "outputs": [
    {
     "name": "stdout",
     "output_type": "stream",
     "text": [
      "['csev@umich.edu', 'cwen@iupui.edu']\n"
     ]
    }
   ],
   "source": [
    "import re\n",
    "s = 'A message from csev@umich.edu to cwen@iupui.edu about meeting @2PM'\n",
    "lst = re.findall('\\\\S+@\\\\S+', s)\n",
    "print(lst)"
   ]
  },
  {
   "cell_type": "code",
   "execution_count": 2,
   "id": "d2d62ff2",
   "metadata": {},
   "outputs": [
    {
     "name": "stdout",
     "output_type": "stream",
     "text": [
      "HTTP/1.1 400 Bad Request\r\n",
      "Date: Thu, 10 Jun 2021 22:27:07 GMT\r\n",
      "Server: Apache/2.4.18 (Ubuntu)\r\n",
      "Content-Length: 308\r\n",
      "Connection: close\r\n",
      "Content-Type: text/html; charset=iso-8859-1\r\n",
      "\r\n",
      "<!DOCTYPE HTML PUBLIC \"-//IETF//DTD HTML 2.0//EN\">\n",
      "<html><head>\n",
      "<title>400 Bad Request</title>\n",
      "</head><body>\n",
      "<h1>Bad Request</h1>\n",
      "<p>Your browser sent a request that this server could not understand.<br />\n",
      "</p>\n",
      "<hr>\n",
      "<address>Apache/2.4.18 (Ubuntu) Server at do1.dr-chuck.com Port 80</address>\n",
      "</body></html>\n",
      "\n"
     ]
    }
   ],
   "source": [
    "import socket\n",
    "\n",
    "mySocket = socket.socket(socket.AF_INET, socket.SOCK_STREAM)\n",
    "mySocket.connect(('data.pr4e.org', 80))\n",
    "cmd = 'GET http://data.pr4e.org/romeo.text HTTP/1.0\\n\\n'.encode()\n",
    "mySocket.send(cmd)\n",
    "\n",
    "while True:\n",
    "    data = mySocket.recv(512)\n",
    "    if (len(data) < 1):\n",
    "        break\n",
    "    print(data.decode())\n",
    "mySocket.close()\n"
   ]
  },
  {
   "cell_type": "markdown",
   "id": "a83cc47d",
   "metadata": {},
   "source": [
    "## Loop through string and add the Unicode character number"
   ]
  },
  {
   "cell_type": "code",
   "execution_count": 103,
   "id": "817f5a6e",
   "metadata": {},
   "outputs": [
    {
     "name": "stdout",
     "output_type": "stream",
     "text": [
      "{'s': 115, 'a': 97, 'm': 109, ' ': 32, 'A': 65, 'r': 114, 'b': 98, 'i': 105, 'd': 100}\n",
      "\n",
      " RESULT -> 835\n"
     ]
    }
   ],
   "source": [
    "from collections import Counter\n",
    "\n",
    "name = \"sam Arbid\"\n",
    "mylist = list(name)\n",
    "counts = Counter(mylist)\n",
    "res = dict()\n",
    "result = 0\n",
    "\n",
    "\n",
    "\n",
    "for s,num in counts.items():\n",
    "    if num > 1:\n",
    "        for suffix in range(1, num + 1):\n",
    "            mylist[mylist.index(s)] = s + str(suffix)\n",
    "            res[char]= ord(char[0])\n",
    "for char in mylist:\n",
    "    res[char]= ord(char[0])\n",
    "print(res)\n",
    "\n",
    "for k,v in res.items():\n",
    "    result += v\n",
    "print('\\n RESULT ->',result)"
   ]
  },
  {
   "cell_type": "markdown",
   "id": "00b6b63a",
   "metadata": {},
   "source": [
    "## Using urllib in Python"
   ]
  },
  {
   "cell_type": "code",
   "execution_count": 104,
   "id": "946d774f",
   "metadata": {},
   "outputs": [
    {
     "name": "stdout",
     "output_type": "stream",
     "text": [
      "But soft what light through yonder window breaks\n",
      "It is the east and Juliet is the sun\n",
      "Arise fair sun and kill the envious moon\n",
      "Who is already sick and pale with grief\n"
     ]
    }
   ],
   "source": [
    "import urllib.request\n",
    "\n",
    "fhand = urllib.request.urlopen('http://data.pr4e.org/romeo.txt')\n",
    "\n",
    "for line in fhand:\n",
    "    print(line.decode().strip())"
   ]
  },
  {
   "cell_type": "markdown",
   "id": "8f7c7602",
   "metadata": {},
   "source": [
    "## Web Scraping with Python"
   ]
  },
  {
   "cell_type": "code",
   "execution_count": 7,
   "id": "466128f2",
   "metadata": {},
   "outputs": [
    {
     "name": "stdout",
     "output_type": "stream",
     "text": [
      "Enter url: https://github.com/Samk13\n",
      "#start-of-content\n",
      "https://github.com/\n",
      "/join?ref_cta=Sign+up&ref_loc=header+logged+out&ref_page=%2F%3Cuser-name%3E&source=header\n",
      "/features\n",
      "/mobile\n",
      "/features/actions\n",
      "/features/codespaces\n",
      "/features/packages\n",
      "/features/security\n",
      "/features/code-review/\n",
      "/features/project-management/\n",
      "/features/integrations\n",
      "/sponsors\n",
      "/customer-stories\n",
      "/team\n",
      "/enterprise\n",
      "/explore\n",
      "/topics\n",
      "/collections\n",
      "/trending\n",
      "https://lab.github.com/\n",
      "https://opensource.guide\n",
      "https://github.com/readme\n",
      "https://github.com/events\n",
      "https://github.community\n",
      "https://education.github.com\n",
      "https://stars.github.com\n",
      "/marketplace\n",
      "/pricing\n",
      "/pricing#feature-comparison\n",
      "https://enterprise.github.com/contact\n",
      "https://education.github.com\n",
      "\n",
      "\n",
      "\n",
      "\n",
      "/login?return_to=%2FSamk13\n",
      "/join?ref_cta=Sign+up&ref_loc=header+logged+out&ref_page=%2F%3Cuser-name%3E&source=header\n",
      "/login?return_to=%2FSamk13\n",
      "/Samk13\n",
      "/Samk13?tab=repositories\n",
      "/Samk13?tab=projects\n",
      "/Samk13?tab=packages\n",
      "/login?return_to=%2FSamk13\n",
      "https://avatars.githubusercontent.com/u/36583694?v=4\n",
      "/login?return_to=%2FSamk13\n",
      "https://github.com/Samk13?tab=followers\n",
      "https://github.com/Samk13?tab=following\n",
      "https://github.com/Samk13?tab=stars\n",
      "https://archiveprogram.github.com/\n",
      "https://archiveprogram.github.com/\n",
      "https://docs.github.com/en/articles/blocking-a-user-from-your-personal-account\n",
      "https://docs.github.com/en/articles/reporting-abuse-or-spam\n",
      "/contact/report-abuse?report=Samk13+%28user%29\n",
      "/Samk13\n",
      "/Samk13?tab=repositories\n",
      "/Samk13?tab=projects\n",
      "/Samk13?tab=packages\n",
      "/Samk13/Samk13\n",
      "#introduction\n",
      "#hi--im-sam-arbid\n",
      "#a-passionate-full-stack-developer-based-in-sweden\n",
      "https://github.com/Samk13\n",
      "mailto:samarbid13@gmail.com\n",
      "https://www.linkedin.com/in/samarbid/\n",
      "https://twitter.com/Sam_Arbid\n",
      "https://instagram.com/Sam_insta13\n",
      "https://www.imdb.com/name/nm8372237/?ref_=nv_sr_srsg_1\n",
      "#some-technologies-that-i-am-familiar-with-\n",
      "https://aws.amazon.com\n",
      "https://babeljs.io/\n",
      "https://www.gnu.org/software/bash/\n",
      "https://www.blender.org/\n",
      "https://getbootstrap.com\n",
      "https://bulma.io/\n",
      "https://www.chartjs.org\n",
      "https://codeigniter.com\n",
      "https://www.w3schools.com/css/\n",
      "https://www.cypress.io\n",
      "https://d3js.org/\n",
      "https://www.docker.com/\n",
      "https://expressjs.com\n",
      "https://www.figma.com/\n",
      "https://firebase.google.com/\n",
      "https://www.gatsbyjs.com/\n",
      "https://cloud.google.com\n",
      "https://git-scm.com/\n",
      "https://graphql.org\n",
      "https://gridsome.org/\n",
      "https://gulpjs.com\n",
      "https://heroku.com\n",
      "https://www.w3.org/html/\n",
      "https://www.adobe.com/in/products/illustrator.html\n",
      "https://ionicframework.com\n",
      "https://developer.mozilla.org/en-US/docs/Web/JavaScript\n",
      "https://www.jenkins.io\n",
      "https://jestjs.io\n",
      "https://kubernetes.io\n",
      "https://laravel.com/\n",
      "https://www.linux.org/\n",
      "https://materializecss.com/\n",
      "https://www.mathworks.com/\n",
      "https://www.mongodb.com/\n",
      "https://www.mysql.com/\n",
      "https://nextjs.org/\n",
      "https://www.nginx.com\n",
      "https://nodejs.org\n",
      "https://nuxtjs.org/\n",
      "https://www.photoshop.com/en\n",
      "https://www.php.net\n",
      "https://postman.com\n",
      "https://pugjs.org\n",
      "https://github.com/puppeteer/puppeteer\n",
      "https://pytorch.org/\n",
      "https://quasar.dev/\n",
      "https://reactjs.org/\n",
      "https://reactnative.dev/\n",
      "https://redux.js.org\n",
      "https://sass-lang.com\n",
      "https://www.sketch.com/\n",
      "https://tailwindcss.com/\n",
      "https://www.tensorflow.org\n",
      "https://travis-ci.org\n",
      "https://www.typescriptlang.org/\n",
      "https://unity.com/\n",
      "https://www.vagrantup.com/\n",
      "https://vuejs.org/\n",
      "https://vuetifyjs.com/en/\n",
      "https://webpack.js.org\n",
      "https://www.adobe.com/products/xd.html\n",
      "/Samk13/inventory-balance\n",
      "/Samk13/covid-19-tracker\n",
      "/Samk13/quedro-salary-calculator-kodtest\n",
      "/Samk13/snippetshub\n",
      "/Samk13/snippetshub/stargazers\n",
      "/Samk13/react-store-app\n",
      "/Samk13/react-store-app/stargazers\n",
      "/Samk13/ML-image-recognition\n",
      "https://docs.github.com/articles/why-are-my-contributions-not-showing-up-on-my-profile\n",
      "/Samk13?tab=overview&org=hi3g-access\n",
      "/Samk13/react-redux-sim-sam-app\n",
      "/Samk13/todo-vuetify\n",
      "/Samk13/vue3\n",
      "/Samk13/FCC-python\n",
      "/Samk13/FCC-python/commits?author=Samk13&since=2021-06-01&until=2021-06-12\n",
      "/Samk13/react-spring-3d-component\n",
      "/Samk13/react-spring-3d-component/commits?author=Samk13&since=2021-06-01&until=2021-06-12\n",
      "/Samk13/Samk13\n",
      "/Samk13/Samk13/commits?author=Samk13&since=2021-06-01&until=2021-06-12\n",
      "/Samk13/todo-vuetify\n",
      "/Samk13/todo-vuetify/commits?author=Samk13&since=2021-06-01&until=2021-06-12\n",
      "/Samk13/ML-image-recognition\n",
      "/Samk13/ML-image-recognition/commits?author=Samk13&since=2021-06-01&until=2021-06-12\n",
      "/Samk13/vue-tailwind-13\n",
      "/Samk13/vue-tailwind-13/commits?author=Samk13&since=2021-06-01&until=2021-06-12\n",
      "/Samk13/laravel-vue-testing\n",
      "/Samk13/laravel-vue-testing/commits?author=Samk13&since=2021-06-01&until=2021-06-12\n",
      "/Samk13/FCC-python\n",
      "https://docs.github.com/categories/setting-up-and-managing-your-github-profile\n",
      "/Samk13?tab=overview&from=2021-06-01&to=2021-06-11\n",
      "/Samk13?tab=overview&from=2020-12-01&to=2020-12-31\n",
      "/Samk13?tab=overview&from=2019-12-01&to=2019-12-31\n",
      "/Samk13?tab=overview&from=2018-12-01&to=2018-12-31\n",
      "https://docs.github.com/en/github/site-policy/github-terms-of-service\n",
      "https://docs.github.com/en/github/site-policy/github-privacy-statement\n",
      "https://github.com/security\n",
      "https://www.githubstatus.com/\n",
      "https://docs.github.com\n",
      "https://github.com\n",
      "https://support.github.com\n",
      "https://github.com/pricing\n",
      "https://docs.github.com\n",
      "https://services.github.com\n",
      "https://github.blog\n",
      "https://github.com/about\n",
      "\n",
      "\n"
     ]
    }
   ],
   "source": [
    "import urllib.request, urllib.parse, urllib.error\n",
    "from bs4 import BeautifulSoup\n",
    "\n",
    "url = input('Enter url: ')\n",
    "html = urllib.request.urlopen(url).read()\n",
    "soup = BeautifulSoup(html, 'html.parser')\n",
    "\n",
    "# retaining all the anchor tabs\n",
    "tags = soup('a')\n",
    "\n",
    "for tag in tags:\n",
    "    print(tag.get('href', None))\n"
   ]
  },
  {
   "cell_type": "markdown",
   "id": "cb300561",
   "metadata": {},
   "source": [
    "## 12 - socket1"
   ]
  },
  {
   "cell_type": "code",
   "execution_count": 8,
   "id": "402a828c",
   "metadata": {},
   "outputs": [
    {
     "name": "stdout",
     "output_type": "stream",
     "text": [
      "HTTP/1.1 200 OK\r\n",
      "Date: Fri, 11 Jun 2021 12:11:07 GMT\r\n",
      "Server: Apache/2.4.18 (Ubuntu)\r\n",
      "Last-Modified: Sat, 13 May 2017 11:22:22 GMT\r\n",
      "ETag: \"a7-54f6609245537\"\r\n",
      "Accept-Ranges: bytes\r\n",
      "Content-Length: 167\r\n",
      "Cache-Control: max-age=0, no-cache, no-store, must-revalidate\r\n",
      "Pragma: no-cache\r\n",
      "Expires: Wed, 11 Jan 1984 05:00:00 GMT\r\n",
      "Connection: close\r\n",
      "Content-Type: text/plain\r\n",
      "\r\n",
      "But soft what light through yonder window breaks\n",
      "It is the east and Juliet is the sun\n",
      "Arise fair sun and kill the envious moon\n",
      "Who is already sick and pale with grief\n"
     ]
    }
   ],
   "source": [
    "import socket\n",
    "\n",
    "mysock = socket.socket(socket.AF_INET, socket.SOCK_STREAM)\n",
    "mysock.connect(('data.pr4e.org', 80))\n",
    "cmd = 'GET http://data.pr4e.org/romeo.txt HTTP/1.0\\r\\n\\r\\n'.encode()\n",
    "mysock.send(cmd)\n",
    "\n",
    "while True:\n",
    "    data = mysock.recv(512)\n",
    "    if len(data) < 1:\n",
    "        break\n",
    "    print(data.decode(),end='')\n",
    "\n",
    "mysock.close()\n"
   ]
  },
  {
   "cell_type": "code",
   "execution_count": null,
   "id": "e66c00c5",
   "metadata": {},
   "outputs": [],
   "source": []
  },
  {
   "cell_type": "code",
   "execution_count": null,
   "id": "54cc1f11",
   "metadata": {},
   "outputs": [],
   "source": []
  },
  {
   "cell_type": "code",
   "execution_count": null,
   "id": "b14e7064",
   "metadata": {},
   "outputs": [],
   "source": []
  },
  {
   "cell_type": "code",
   "execution_count": null,
   "id": "23e69176",
   "metadata": {},
   "outputs": [],
   "source": []
  },
  {
   "cell_type": "code",
   "execution_count": null,
   "id": "7f9df4ec",
   "metadata": {},
   "outputs": [],
   "source": []
  },
  {
   "cell_type": "code",
   "execution_count": null,
   "id": "dfef7b5c",
   "metadata": {},
   "outputs": [],
   "source": []
  },
  {
   "cell_type": "code",
   "execution_count": null,
   "id": "a2863093",
   "metadata": {},
   "outputs": [],
   "source": []
  },
  {
   "cell_type": "code",
   "execution_count": null,
   "id": "a93ef8ae",
   "metadata": {},
   "outputs": [],
   "source": []
  },
  {
   "cell_type": "code",
   "execution_count": null,
   "id": "622f9fb2",
   "metadata": {},
   "outputs": [],
   "source": []
  },
  {
   "cell_type": "code",
   "execution_count": null,
   "id": "2d293400",
   "metadata": {},
   "outputs": [],
   "source": []
  },
  {
   "cell_type": "code",
   "execution_count": null,
   "id": "8b8eaa9b",
   "metadata": {},
   "outputs": [],
   "source": []
  },
  {
   "cell_type": "code",
   "execution_count": null,
   "id": "730a8d8e",
   "metadata": {},
   "outputs": [],
   "source": []
  }
 ],
 "metadata": {
  "kernelspec": {
   "display_name": "Python 3",
   "language": "python",
   "name": "python3"
  },
  "language_info": {
   "codemirror_mode": {
    "name": "ipython",
    "version": 3
   },
   "file_extension": ".py",
   "mimetype": "text/x-python",
   "name": "python",
   "nbconvert_exporter": "python",
   "pygments_lexer": "ipython3",
   "version": "3.9.5"
  }
 },
 "nbformat": 4,
 "nbformat_minor": 5
}

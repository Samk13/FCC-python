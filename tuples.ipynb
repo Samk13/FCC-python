{
 "cells": [
  {
   "cell_type": "code",
   "execution_count": 3,
   "id": "81bdab8f",
   "metadata": {},
   "outputs": [],
   "source": [
    "%config IPCompleter.greedy=True"
   ]
  },
  {
   "cell_type": "code",
   "execution_count": 1,
   "id": "d5028565",
   "metadata": {},
   "outputs": [
    {
     "name": "stdout",
     "output_type": "stream",
     "text": [
      "c 22\n",
      "b 1\n",
      "a 10\n",
      "[('c', 22), ('b', 1), ('a', 10)]\n"
     ]
    }
   ],
   "source": [
    "\n",
    "\n",
    "d = { 'b':1, 'c': 22,'a': 10}\n",
    "dict_items = ([('b',1), ('c', 22),('a', 10), ])\n",
    "for k,v in sorted(d.items(), reverse=True):\n",
    "    print(k, v)\n",
    "print(sorted(d.items(), reverse=True))"
   ]
  },
  {
   "cell_type": "markdown",
   "id": "ecb437ef",
   "metadata": {},
   "source": [
    "\n",
    "### Which does the same thing as the following code?:"
   ]
  },
  {
   "cell_type": "code",
   "execution_count": 8,
   "id": "d6878ae5",
   "metadata": {},
   "outputs": [
    {
     "name": "stdout",
     "output_type": "stream",
     "text": [
      "[(1223, 'd'), (432, 'f'), (123, 'b'), (12, 'a')]\n"
     ]
    }
   ],
   "source": [
    "lst = []\n",
    "counts = {'a': 12, 'b':123, 'd':1223, 'f':432}\n",
    "\n",
    "for key, val in counts.items():\n",
    "    newtup = (val, key)\n",
    "    lst.append(newtup)\n",
    "lst = sorted(lst, reverse=True)\n",
    "print(lst)"
   ]
  },
  {
   "cell_type": "markdown",
   "id": "0d7a83c1",
   "metadata": {},
   "source": [
    "### sorting object:"
   ]
  },
  {
   "cell_type": "code",
   "execution_count": 3,
   "id": "eb12c6a3",
   "metadata": {},
   "outputs": [
    {
     "name": "stdout",
     "output_type": "stream",
     "text": [
      "{'d': 1223, 'f': 432, 'b': 123, 'a': 12}\n"
     ]
    }
   ],
   "source": [
    "isReverse = not False\n",
    "counts = {'a': 12, 'b':123, 'd':1223, 'f':432}\n",
    "res = dict()\n",
    "for x,y in sorted( [ (v,k) for k,v in counts.items()], reverse=isReverse ):\n",
    "    res[y] = res.get(y,x)\n",
    "print(res)"
   ]
  },
  {
   "cell_type": "code",
   "execution_count": 4,
   "id": "2d7c5daf",
   "metadata": {},
   "outputs": [
    {
     "name": "stdout",
     "output_type": "stream",
     "text": [
      "COUNTS:  {'a': 12, 'b': 123, 'd': 1223, 'f': 432, 'postId': 500, 'id': 500, 'name': 500, 'email': 500, 'body': 500}\n"
     ]
    }
   ],
   "source": [
    "import json\n",
    "\n",
    "with open('comments.json') as json_file:\n",
    "    data = json.load(json_file)\n",
    "    for d in data:\n",
    "        for p, n in d.items():\n",
    "            counts[p] = counts.get(p, 0) + 1\n",
    "print('COUNTS: ', counts)"
   ]
  },
  {
   "cell_type": "code",
   "execution_count": 5,
   "id": "d804a03d",
   "metadata": {},
   "outputs": [
    {
     "name": "stdout",
     "output_type": "stream",
     "text": [
      "['csev@umich.edu', 'cwen@iupui.edu']\n"
     ]
    }
   ],
   "source": [
    "import re\n",
    "s = 'A message from csev@umich.edu to cwen@iupui.edu about meeting @2PM'\n",
    "lst = re.findall('\\\\S+@\\\\S+', s)\n",
    "print(lst)"
   ]
  },
  {
   "cell_type": "code",
   "execution_count": 2,
   "id": "d2d62ff2",
   "metadata": {},
   "outputs": [
    {
     "name": "stdout",
     "output_type": "stream",
     "text": [
      "HTTP/1.1 400 Bad Request\r\n",
      "Date: Thu, 10 Jun 2021 22:27:07 GMT\r\n",
      "Server: Apache/2.4.18 (Ubuntu)\r\n",
      "Content-Length: 308\r\n",
      "Connection: close\r\n",
      "Content-Type: text/html; charset=iso-8859-1\r\n",
      "\r\n",
      "<!DOCTYPE HTML PUBLIC \"-//IETF//DTD HTML 2.0//EN\">\n",
      "<html><head>\n",
      "<title>400 Bad Request</title>\n",
      "</head><body>\n",
      "<h1>Bad Request</h1>\n",
      "<p>Your browser sent a request that this server could not understand.<br />\n",
      "</p>\n",
      "<hr>\n",
      "<address>Apache/2.4.18 (Ubuntu) Server at do1.dr-chuck.com Port 80</address>\n",
      "</body></html>\n",
      "\n"
     ]
    }
   ],
   "source": [
    "import socket\n",
    "\n",
    "mySocket = socket.socket(socket.AF_INET, socket.SOCK_STREAM)\n",
    "mySocket.connect(('data.pr4e.org', 80))\n",
    "cmd = 'GET http://data.pr4e.org/romeo.text HTTP/1.0\\n\\n'.encode()\n",
    "mySocket.send(cmd)\n",
    "\n",
    "while True:\n",
    "    data = mySocket.recv(512)\n",
    "    if (len(data) < 1):\n",
    "        break\n",
    "    print(data.decode())\n",
    "mySocket.close()\n"
   ]
  },
  {
   "cell_type": "code",
   "execution_count": 103,
   "id": "817f5a6e",
   "metadata": {},
   "outputs": [
    {
     "name": "stdout",
     "output_type": "stream",
     "text": [
      "{'s': 115, 'a': 97, 'm': 109, ' ': 32, 'A': 65, 'r': 114, 'b': 98, 'i': 105, 'd': 100}\n",
      "\n",
      " RESULT -> 835\n"
     ]
    }
   ],
   "source": [
    "from collections import Counter\n",
    "\n",
    "name = \"sam Arbid\"\n",
    "mylist = list(name)\n",
    "counts = Counter(mylist)\n",
    "res = dict()\n",
    "result = 0\n",
    "\n",
    "\n",
    "\n",
    "for s,num in counts.items():\n",
    "    if num > 1:\n",
    "        for suffix in range(1, num + 1):\n",
    "            mylist[mylist.index(s)] = s + str(suffix)\n",
    "            res[char]= ord(char[0])\n",
    "for char in mylist:\n",
    "    res[char]= ord(char[0])\n",
    "print(res)\n",
    "\n",
    "for k,v in res.items():\n",
    "    result += v\n",
    "print('\\n RESULT ->',result)"
   ]
  },
  {
   "cell_type": "code",
   "execution_count": null,
   "id": "073a106f",
   "metadata": {},
   "outputs": [],
   "source": []
  },
  {
   "cell_type": "code",
   "execution_count": null,
   "id": "c0f50de0",
   "metadata": {},
   "outputs": [],
   "source": []
  },
  {
   "cell_type": "code",
   "execution_count": null,
   "id": "2b4c2beb",
   "metadata": {},
   "outputs": [],
   "source": []
  },
  {
   "cell_type": "code",
   "execution_count": null,
   "id": "0ef3de90",
   "metadata": {},
   "outputs": [],
   "source": []
  },
  {
   "cell_type": "code",
   "execution_count": null,
   "id": "f83ce605",
   "metadata": {},
   "outputs": [],
   "source": []
  },
  {
   "cell_type": "code",
   "execution_count": null,
   "id": "76815bf5",
   "metadata": {},
   "outputs": [],
   "source": []
  },
  {
   "cell_type": "code",
   "execution_count": null,
   "id": "2d201f81",
   "metadata": {},
   "outputs": [],
   "source": []
  },
  {
   "cell_type": "code",
   "execution_count": null,
   "id": "d8bc7503",
   "metadata": {},
   "outputs": [],
   "source": []
  },
  {
   "cell_type": "code",
   "execution_count": null,
   "id": "f85b6270",
   "metadata": {},
   "outputs": [],
   "source": []
  },
  {
   "cell_type": "code",
   "execution_count": null,
   "id": "84a86f9b",
   "metadata": {},
   "outputs": [],
   "source": []
  },
  {
   "cell_type": "code",
   "execution_count": null,
   "id": "50eb2bab",
   "metadata": {},
   "outputs": [],
   "source": []
  },
  {
   "cell_type": "code",
   "execution_count": null,
   "id": "72858f94",
   "metadata": {},
   "outputs": [],
   "source": []
  },
  {
   "cell_type": "code",
   "execution_count": null,
   "id": "0880a1cf",
   "metadata": {},
   "outputs": [],
   "source": []
  }
 ],
 "metadata": {
  "kernelspec": {
   "display_name": "Python 3",
   "language": "python",
   "name": "python3"
  },
  "language_info": {
   "codemirror_mode": {
    "name": "ipython",
    "version": 3
   },
   "file_extension": ".py",
   "mimetype": "text/x-python",
   "name": "python",
   "nbconvert_exporter": "python",
   "pygments_lexer": "ipython3",
   "version": "3.9.5"
  }
 },
 "nbformat": 4,
 "nbformat_minor": 5
}

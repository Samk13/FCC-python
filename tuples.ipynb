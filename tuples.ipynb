{
 "cells": [
  {
   "cell_type": "code",
   "execution_count": 1,
   "id": "d5028565",
   "metadata": {},
   "outputs": [
    {
     "name": "stdout",
     "output_type": "stream",
     "text": [
      "c 22\n",
      "b 1\n",
      "a 10\n",
      "[('c', 22), ('b', 1), ('a', 10)]\n"
     ]
    }
   ],
   "source": [
    "d = { 'b':1, 'c': 22,'a': 10}\n",
    "dict_items = ([('b',1), ('c', 22),('a', 10), ])\n",
    "for k,v in sorted(d.items(), reverse=True):\n",
    "    print(k, v)\n",
    "print(sorted(d.items(), reverse=True))"
   ]
  },
  {
   "cell_type": "markdown",
   "id": "ecb437ef",
   "metadata": {},
   "source": [
    "# testing markdown:\n",
    "\n",
    "### Which does the same thing as the following code?:"
   ]
  },
  {
   "cell_type": "code",
   "execution_count": 8,
   "id": "d6878ae5",
   "metadata": {},
   "outputs": [
    {
     "name": "stdout",
     "output_type": "stream",
     "text": [
      "[(1223, 'd'), (432, 'f'), (123, 'b'), (12, 'a')]\n"
     ]
    }
   ],
   "source": [
    "lst = []\n",
    "counts = {'a': 12, 'b':123, 'd':1223, 'f':432}\n",
    "\n",
    "for key, val in counts.items():\n",
    "    newtup = (val, key)\n",
    "    lst.append(newtup)\n",
    "lst = sorted(lst, reverse=True)\n",
    "print(lst)"
   ]
  },
  {
   "cell_type": "code",
   "execution_count": 16,
   "id": "4fb8cf54",
   "metadata": {},
   "outputs": [
    {
     "name": "stdout",
     "output_type": "stream",
     "text": [
      "[(1223, 'd'), (432, 'f'), (123, 'b'), (12, 'a')]\n"
     ]
    }
   ],
   "source": [
    "print( sorted( [ (v,k) for k,v in counts.items()], reverse=True ) )"
   ]
  },
  {
   "cell_type": "code",
   "execution_count": null,
   "id": "2cbed33f",
   "metadata": {},
   "outputs": [],
   "source": []
  }
 ],
 "metadata": {
  "kernelspec": {
   "display_name": "Python 3",
   "language": "python",
   "name": "python3"
  },
  "language_info": {
   "codemirror_mode": {
    "name": "ipython",
    "version": 3
   },
   "file_extension": ".py",
   "mimetype": "text/x-python",
   "name": "python",
   "nbconvert_exporter": "python",
   "pygments_lexer": "ipython3",
   "version": "3.9.5"
  }
 },
 "nbformat": 4,
 "nbformat_minor": 5
}

{
 "cells": [
  {
   "cell_type": "code",
   "execution_count": 3,
   "id": "f55303ae",
   "metadata": {},
   "outputs": [],
   "source": [
    "%config IPCompleter.greedy=True"
   ]
  },
  {
   "cell_type": "code",
   "execution_count": 1,
   "id": "d5028565",
   "metadata": {},
   "outputs": [
    {
     "name": "stdout",
     "output_type": "stream",
     "text": [
      "c 22\n",
      "b 1\n",
      "a 10\n",
      "[('c', 22), ('b', 1), ('a', 10)]\n"
     ]
    }
   ],
   "source": [
    "\n",
    "\n",
    "d = { 'b':1, 'c': 22,'a': 10}\n",
    "dict_items = ([('b',1), ('c', 22),('a', 10), ])\n",
    "for k,v in sorted(d.items(), reverse=True):\n",
    "    print(k, v)\n",
    "print(sorted(d.items(), reverse=True))"
   ]
  },
  {
   "cell_type": "markdown",
   "id": "ecb437ef",
   "metadata": {},
   "source": [
    "\n",
    "### Which does the same thing as the following code?:"
   ]
  },
  {
   "cell_type": "code",
   "execution_count": 8,
   "id": "d6878ae5",
   "metadata": {},
   "outputs": [
    {
     "name": "stdout",
     "output_type": "stream",
     "text": [
      "[(1223, 'd'), (432, 'f'), (123, 'b'), (12, 'a')]\n"
     ]
    }
   ],
   "source": [
    "lst = []\n",
    "counts = {'a': 12, 'b':123, 'd':1223, 'f':432}\n",
    "\n",
    "for key, val in counts.items():\n",
    "    newtup = (val, key)\n",
    "    lst.append(newtup)\n",
    "lst = sorted(lst, reverse=True)\n",
    "print(lst)"
   ]
  },
  {
   "cell_type": "markdown",
   "id": "0d7a83c1",
   "metadata": {},
   "source": [
    "### sorting object:"
   ]
  },
  {
   "cell_type": "code",
   "execution_count": 3,
   "id": "eb12c6a3",
   "metadata": {},
   "outputs": [
    {
     "name": "stdout",
     "output_type": "stream",
     "text": [
      "{'d': 1223, 'f': 432, 'b': 123, 'a': 12}\n"
     ]
    }
   ],
   "source": [
    "isReverse = not False\n",
    "counts = {'a': 12, 'b':123, 'd':1223, 'f':432}\n",
    "res = dict()\n",
    "for x,y in sorted( [ (v,k) for k,v in counts.items()], reverse=isReverse ):\n",
    "    res[y] = res.get(y,x)\n",
    "print(res)"
   ]
  },
  {
   "cell_type": "code",
   "execution_count": 4,
   "id": "2d7c5daf",
   "metadata": {},
   "outputs": [
    {
     "name": "stdout",
     "output_type": "stream",
     "text": [
      "COUNTS:  {'a': 12, 'b': 123, 'd': 1223, 'f': 432, 'postId': 500, 'id': 500, 'name': 500, 'email': 500, 'body': 500}\n"
     ]
    }
   ],
   "source": [
    "import json\n",
    "\n",
    "with open('comments.json') as json_file:\n",
    "    data = json.load(json_file)\n",
    "    for d in data:\n",
    "        for p, n in d.items():\n",
    "            counts[p] = counts.get(p, 0) + 1\n",
    "print('COUNTS: ', counts)"
   ]
  },
  {
   "cell_type": "code",
   "execution_count": 5,
   "id": "d804a03d",
   "metadata": {},
   "outputs": [
    {
     "name": "stdout",
     "output_type": "stream",
     "text": [
      "['csev@umich.edu', 'cwen@iupui.edu']\n"
     ]
    }
   ],
   "source": [
    "import re\n",
    "s = 'A message from csev@umich.edu to cwen@iupui.edu about meeting @2PM'\n",
    "lst = re.findall('\\\\S+@\\\\S+', s)\n",
    "print(lst)"
   ]
  },
  {
   "cell_type": "code",
   "execution_count": 2,
   "id": "d2d62ff2",
   "metadata": {},
   "outputs": [
    {
     "name": "stdout",
     "output_type": "stream",
     "text": [
      "HTTP/1.1 400 Bad Request\r\n",
      "Date: Thu, 10 Jun 2021 22:27:07 GMT\r\n",
      "Server: Apache/2.4.18 (Ubuntu)\r\n",
      "Content-Length: 308\r\n",
      "Connection: close\r\n",
      "Content-Type: text/html; charset=iso-8859-1\r\n",
      "\r\n",
      "<!DOCTYPE HTML PUBLIC \"-//IETF//DTD HTML 2.0//EN\">\n",
      "<html><head>\n",
      "<title>400 Bad Request</title>\n",
      "</head><body>\n",
      "<h1>Bad Request</h1>\n",
      "<p>Your browser sent a request that this server could not understand.<br />\n",
      "</p>\n",
      "<hr>\n",
      "<address>Apache/2.4.18 (Ubuntu) Server at do1.dr-chuck.com Port 80</address>\n",
      "</body></html>\n",
      "\n"
     ]
    }
   ],
   "source": [
    "import socket\n",
    "\n",
    "mySocket = socket.socket(socket.AF_INET, socket.SOCK_STREAM)\n",
    "mySocket.connect(('data.pr4e.org', 80))\n",
    "cmd = 'GET http://data.pr4e.org/romeo.text HTTP/1.0\\n\\n'.encode()\n",
    "mySocket.send(cmd)\n",
    "\n",
    "while True:\n",
    "    data = mySocket.recv(512)\n",
    "    if (len(data) < 1):\n",
    "        break\n",
    "    print(data.decode())\n",
    "mySocket.close()\n"
   ]
  },
  {
   "cell_type": "markdown",
   "id": "a83cc47d",
   "metadata": {},
   "source": [
    "## Loop through string and add the Unicode character number"
   ]
  },
  {
   "cell_type": "code",
   "execution_count": 103,
   "id": "817f5a6e",
   "metadata": {},
   "outputs": [
    {
     "name": "stdout",
     "output_type": "stream",
     "text": [
      "{'s': 115, 'a': 97, 'm': 109, ' ': 32, 'A': 65, 'r': 114, 'b': 98, 'i': 105, 'd': 100}\n",
      "\n",
      " RESULT -> 835\n"
     ]
    }
   ],
   "source": [
    "from collections import Counter\n",
    "\n",
    "name = \"sam Arbid\"\n",
    "mylist = list(name)\n",
    "counts = Counter(mylist)\n",
    "res = dict()\n",
    "result = 0\n",
    "\n",
    "\n",
    "\n",
    "for s,num in counts.items():\n",
    "    if num > 1:\n",
    "        for suffix in range(1, num + 1):\n",
    "            mylist[mylist.index(s)] = s + str(suffix)\n",
    "            res[char]= ord(char[0])\n",
    "for char in mylist:\n",
    "    res[char]= ord(char[0])\n",
    "print(res)\n",
    "\n",
    "for k,v in res.items():\n",
    "    result += v\n",
    "print('\\n RESULT ->',result)"
   ]
  },
  {
   "cell_type": "markdown",
   "id": "00b6b63a",
   "metadata": {},
   "source": [
    "## Using urllib in Python"
   ]
  },
  {
   "cell_type": "code",
   "execution_count": 104,
   "id": "946d774f",
   "metadata": {},
   "outputs": [
    {
     "name": "stdout",
     "output_type": "stream",
     "text": [
      "But soft what light through yonder window breaks\n",
      "It is the east and Juliet is the sun\n",
      "Arise fair sun and kill the envious moon\n",
      "Who is already sick and pale with grief\n"
     ]
    }
   ],
   "source": [
    "import urllib.request\n",
    "\n",
    "fhand = urllib.request.urlopen('http://data.pr4e.org/romeo.txt')\n",
    "\n",
    "for line in fhand:\n",
    "    print(line.decode().strip())"
   ]
  },
  {
   "cell_type": "markdown",
   "id": "8f7c7602",
   "metadata": {},
   "source": [
    "## Web Scraping with Python"
   ]
  },
  {
   "cell_type": "code",
   "execution_count": 7,
   "id": "466128f2",
   "metadata": {},
   "outputs": [
    {
     "name": "stdout",
     "output_type": "stream",
     "text": [
      "Enter url: https://github.com/Samk13\n",
      "#start-of-content\n",
      "https://github.com/\n",
      "/join?ref_cta=Sign+up&ref_loc=header+logged+out&ref_page=%2F%3Cuser-name%3E&source=header\n",
      "/features\n",
      "/mobile\n",
      "/features/actions\n",
      "/features/codespaces\n",
      "/features/packages\n",
      "/features/security\n",
      "/features/code-review/\n",
      "/features/project-management/\n",
      "/features/integrations\n",
      "/sponsors\n",
      "/customer-stories\n",
      "/team\n",
      "/enterprise\n",
      "/explore\n",
      "/topics\n",
      "/collections\n",
      "/trending\n",
      "https://lab.github.com/\n",
      "https://opensource.guide\n",
      "https://github.com/readme\n",
      "https://github.com/events\n",
      "https://github.community\n",
      "https://education.github.com\n",
      "https://stars.github.com\n",
      "/marketplace\n",
      "/pricing\n",
      "/pricing#feature-comparison\n",
      "https://enterprise.github.com/contact\n",
      "https://education.github.com\n",
      "\n",
      "\n",
      "\n",
      "\n",
      "/login?return_to=%2FSamk13\n",
      "/join?ref_cta=Sign+up&ref_loc=header+logged+out&ref_page=%2F%3Cuser-name%3E&source=header\n",
      "/login?return_to=%2FSamk13\n",
      "/Samk13\n",
      "/Samk13?tab=repositories\n",
      "/Samk13?tab=projects\n",
      "/Samk13?tab=packages\n",
      "/login?return_to=%2FSamk13\n",
      "https://avatars.githubusercontent.com/u/36583694?v=4\n",
      "/login?return_to=%2FSamk13\n",
      "https://github.com/Samk13?tab=followers\n",
      "https://github.com/Samk13?tab=following\n",
      "https://github.com/Samk13?tab=stars\n",
      "https://archiveprogram.github.com/\n",
      "https://archiveprogram.github.com/\n",
      "https://docs.github.com/en/articles/blocking-a-user-from-your-personal-account\n",
      "https://docs.github.com/en/articles/reporting-abuse-or-spam\n",
      "/contact/report-abuse?report=Samk13+%28user%29\n",
      "/Samk13\n",
      "/Samk13?tab=repositories\n",
      "/Samk13?tab=projects\n",
      "/Samk13?tab=packages\n",
      "/Samk13/Samk13\n",
      "#introduction\n",
      "#hi--im-sam-arbid\n",
      "#a-passionate-full-stack-developer-based-in-sweden\n",
      "https://github.com/Samk13\n",
      "mailto:samarbid13@gmail.com\n",
      "https://www.linkedin.com/in/samarbid/\n",
      "https://twitter.com/Sam_Arbid\n",
      "https://instagram.com/Sam_insta13\n",
      "https://www.imdb.com/name/nm8372237/?ref_=nv_sr_srsg_1\n",
      "#some-technologies-that-i-am-familiar-with-\n",
      "https://aws.amazon.com\n",
      "https://babeljs.io/\n",
      "https://www.gnu.org/software/bash/\n",
      "https://www.blender.org/\n",
      "https://getbootstrap.com\n",
      "https://bulma.io/\n",
      "https://www.chartjs.org\n",
      "https://codeigniter.com\n",
      "https://www.w3schools.com/css/\n",
      "https://www.cypress.io\n",
      "https://d3js.org/\n",
      "https://www.docker.com/\n",
      "https://expressjs.com\n",
      "https://www.figma.com/\n",
      "https://firebase.google.com/\n",
      "https://www.gatsbyjs.com/\n",
      "https://cloud.google.com\n",
      "https://git-scm.com/\n",
      "https://graphql.org\n",
      "https://gridsome.org/\n",
      "https://gulpjs.com\n",
      "https://heroku.com\n",
      "https://www.w3.org/html/\n",
      "https://www.adobe.com/in/products/illustrator.html\n",
      "https://ionicframework.com\n",
      "https://developer.mozilla.org/en-US/docs/Web/JavaScript\n",
      "https://www.jenkins.io\n",
      "https://jestjs.io\n",
      "https://kubernetes.io\n",
      "https://laravel.com/\n",
      "https://www.linux.org/\n",
      "https://materializecss.com/\n",
      "https://www.mathworks.com/\n",
      "https://www.mongodb.com/\n",
      "https://www.mysql.com/\n",
      "https://nextjs.org/\n",
      "https://www.nginx.com\n",
      "https://nodejs.org\n",
      "https://nuxtjs.org/\n",
      "https://www.photoshop.com/en\n",
      "https://www.php.net\n",
      "https://postman.com\n",
      "https://pugjs.org\n",
      "https://github.com/puppeteer/puppeteer\n",
      "https://pytorch.org/\n",
      "https://quasar.dev/\n",
      "https://reactjs.org/\n",
      "https://reactnative.dev/\n",
      "https://redux.js.org\n",
      "https://sass-lang.com\n",
      "https://www.sketch.com/\n",
      "https://tailwindcss.com/\n",
      "https://www.tensorflow.org\n",
      "https://travis-ci.org\n",
      "https://www.typescriptlang.org/\n",
      "https://unity.com/\n",
      "https://www.vagrantup.com/\n",
      "https://vuejs.org/\n",
      "https://vuetifyjs.com/en/\n",
      "https://webpack.js.org\n",
      "https://www.adobe.com/products/xd.html\n",
      "/Samk13/inventory-balance\n",
      "/Samk13/covid-19-tracker\n",
      "/Samk13/quedro-salary-calculator-kodtest\n",
      "/Samk13/snippetshub\n",
      "/Samk13/snippetshub/stargazers\n",
      "/Samk13/react-store-app\n",
      "/Samk13/react-store-app/stargazers\n",
      "/Samk13/ML-image-recognition\n",
      "https://docs.github.com/articles/why-are-my-contributions-not-showing-up-on-my-profile\n",
      "/Samk13?tab=overview&org=hi3g-access\n",
      "/Samk13/react-redux-sim-sam-app\n",
      "/Samk13/todo-vuetify\n",
      "/Samk13/vue3\n",
      "/Samk13/FCC-python\n",
      "/Samk13/FCC-python/commits?author=Samk13&since=2021-06-01&until=2021-06-12\n",
      "/Samk13/react-spring-3d-component\n",
      "/Samk13/react-spring-3d-component/commits?author=Samk13&since=2021-06-01&until=2021-06-12\n",
      "/Samk13/Samk13\n",
      "/Samk13/Samk13/commits?author=Samk13&since=2021-06-01&until=2021-06-12\n",
      "/Samk13/todo-vuetify\n",
      "/Samk13/todo-vuetify/commits?author=Samk13&since=2021-06-01&until=2021-06-12\n",
      "/Samk13/ML-image-recognition\n",
      "/Samk13/ML-image-recognition/commits?author=Samk13&since=2021-06-01&until=2021-06-12\n",
      "/Samk13/vue-tailwind-13\n",
      "/Samk13/vue-tailwind-13/commits?author=Samk13&since=2021-06-01&until=2021-06-12\n",
      "/Samk13/laravel-vue-testing\n",
      "/Samk13/laravel-vue-testing/commits?author=Samk13&since=2021-06-01&until=2021-06-12\n",
      "/Samk13/FCC-python\n",
      "https://docs.github.com/categories/setting-up-and-managing-your-github-profile\n",
      "/Samk13?tab=overview&from=2021-06-01&to=2021-06-11\n",
      "/Samk13?tab=overview&from=2020-12-01&to=2020-12-31\n",
      "/Samk13?tab=overview&from=2019-12-01&to=2019-12-31\n",
      "/Samk13?tab=overview&from=2018-12-01&to=2018-12-31\n",
      "https://docs.github.com/en/github/site-policy/github-terms-of-service\n",
      "https://docs.github.com/en/github/site-policy/github-privacy-statement\n",
      "https://github.com/security\n",
      "https://www.githubstatus.com/\n",
      "https://docs.github.com\n",
      "https://github.com\n",
      "https://support.github.com\n",
      "https://github.com/pricing\n",
      "https://docs.github.com\n",
      "https://services.github.com\n",
      "https://github.blog\n",
      "https://github.com/about\n",
      "\n",
      "\n"
     ]
    }
   ],
   "source": [
    "import urllib.request, urllib.parse, urllib.error\n",
    "from bs4 import BeautifulSoup\n",
    "\n",
    "url = input('Enter url: ')\n",
    "html = urllib.request.urlopen(url).read()\n",
    "soup = BeautifulSoup(html, 'html.parser')\n",
    "\n",
    "# retaining all the anchor tabs\n",
    "tags = soup('a')\n",
    "\n",
    "for tag in tags:\n",
    "    print(tag.get('href', None))\n"
   ]
  },
  {
   "cell_type": "markdown",
   "id": "cb300561",
   "metadata": {},
   "source": [
    "## 12 - socket1"
   ]
  },
  {
   "cell_type": "code",
   "execution_count": 8,
   "id": "402a828c",
   "metadata": {},
   "outputs": [
    {
     "name": "stdout",
     "output_type": "stream",
     "text": [
      "HTTP/1.1 200 OK\r\n",
      "Date: Fri, 11 Jun 2021 12:11:07 GMT\r\n",
      "Server: Apache/2.4.18 (Ubuntu)\r\n",
      "Last-Modified: Sat, 13 May 2017 11:22:22 GMT\r\n",
      "ETag: \"a7-54f6609245537\"\r\n",
      "Accept-Ranges: bytes\r\n",
      "Content-Length: 167\r\n",
      "Cache-Control: max-age=0, no-cache, no-store, must-revalidate\r\n",
      "Pragma: no-cache\r\n",
      "Expires: Wed, 11 Jan 1984 05:00:00 GMT\r\n",
      "Connection: close\r\n",
      "Content-Type: text/plain\r\n",
      "\r\n",
      "But soft what light through yonder window breaks\n",
      "It is the east and Juliet is the sun\n",
      "Arise fair sun and kill the envious moon\n",
      "Who is already sick and pale with grief\n"
     ]
    }
   ],
   "source": [
    "import socket\n",
    "\n",
    "mysock = socket.socket(socket.AF_INET, socket.SOCK_STREAM)\n",
    "mysock.connect(('data.pr4e.org', 80))\n",
    "cmd = 'GET http://data.pr4e.org/romeo.txt HTTP/1.0\\r\\n\\r\\n'.encode()\n",
    "mysock.send(cmd)\n",
    "\n",
    "while True:\n",
    "    data = mysock.recv(512)\n",
    "    if len(data) < 1:\n",
    "        break\n",
    "    print(data.decode(),end='')\n",
    "\n",
    "mysock.close()\n"
   ]
  },
  {
   "cell_type": "markdown",
   "id": "52c8b2c0",
   "metadata": {},
   "source": [
    "## 12 - urllib "
   ]
  },
  {
   "cell_type": "code",
   "execution_count": 3,
   "id": "54cc1f11",
   "metadata": {},
   "outputs": [
    {
     "name": "stdout",
     "output_type": "stream",
     "text": [
      "But soft what light through yonder window breaks\n",
      "It is the east and Juliet is the sun\n",
      "Arise fair sun and kill the envious moon\n",
      "Who is already sick and pale with grief\n"
     ]
    }
   ],
   "source": [
    "import urllib.request\n",
    "\n",
    "fhand = urllib.request.urlopen('http://data.pr4e.org/romeo.txt')\n",
    "for line in fhand:\n",
    "    print(line.decode().strip())"
   ]
  },
  {
   "cell_type": "code",
   "execution_count": null,
   "id": "b14e7064",
   "metadata": {},
   "outputs": [],
   "source": []
  },
  {
   "cell_type": "code",
   "execution_count": 4,
   "id": "23e69176",
   "metadata": {},
   "outputs": [
    {
     "name": "stdout",
     "output_type": "stream",
     "text": [
      "{'But': 1, 'soft': 1, 'what': 1, 'light': 1, 'through': 1, 'yonder': 1, 'window': 1, 'breaks': 1, 'It': 1, 'is': 3, 'the': 3, 'east': 1, 'and': 3, 'Juliet': 1, 'sun': 2, 'Arise': 1, 'fair': 1, 'kill': 1, 'envious': 1, 'moon': 1, 'Who': 1, 'already': 1, 'sick': 1, 'pale': 1, 'with': 1, 'grief': 1}\n"
     ]
    }
   ],
   "source": [
    "import urllib.request, urllib.parse, urllib.error\n",
    "\n",
    "fhand = urllib.request.urlopen('http://data.pr4e.org/romeo.txt')\n",
    "\n",
    "counts = dict()\n",
    "for line in fhand:\n",
    "    words = line.decode().split()\n",
    "    for word in words:\n",
    "        counts[word] = counts.get(word, 0) + 1\n",
    "print(counts)"
   ]
  },
  {
   "cell_type": "code",
   "execution_count": 3,
   "id": "dfef7b5c",
   "metadata": {},
   "outputs": [
    {
     "name": "stdout",
     "output_type": "stream",
     "text": [
      "Enter - https://www.youtube.com/watch?v=2eCHD6f_phE\n",
      "/\n",
      "/\n",
      "https://www.youtube.com/about/\n",
      "https://www.youtube.com/about/press/\n",
      "https://www.youtube.com/about/copyright/\n",
      "/t/contact_us/\n",
      "https://www.youtube.com/creators/\n",
      "https://www.youtube.com/ads/\n",
      "https://developers.google.com/youtube\n",
      "/t/terms\n",
      "https://policies.google.com/privacy?hl=sv\n",
      "https://www.youtube.com/about/policies/\n",
      "https://www.youtube.com/howyoutubeworks?utm_campaign=ytgen&utm_source=ythp&utm_medium=LeftNav&utm_content=txt&u=https%3A%2F%2Fwww.youtube.com%2Fhowyoutubeworks%3Futm_source%3Dythp%26utm_medium%3DLeftNav%26utm_campaign%3Dytgen\n",
      "/new\n",
      "Wall time: 5.93 s\n"
     ]
    }
   ],
   "source": [
    "%%time\n",
    "import urllib.request, urllib.parse, urllib.error\n",
    "from bs4 import BeautifulSoup\n",
    "import ssl\n",
    "\n",
    "# Ignore SSL certificate errors\n",
    "ctx = ssl.create_default_context()\n",
    "ctx.check_hostname = False\n",
    "ctx.verify_mode = ssl.CERT_NONE\n",
    "\n",
    "url = input('Enter - ')\n",
    "html = urllib.request.urlopen(url, context=ctx).read()\n",
    "soup = BeautifulSoup(html, 'html.parser')\n",
    "# Retrieve all of the anchor tags\n",
    "tags = soup('a')\n",
    "for tag in tags:\n",
    "    print(tag.get('href', None))"
   ]
  },
  {
   "cell_type": "markdown",
   "id": "dd54ab7a",
   "metadata": {},
   "source": [
    "## Using Web Services"
   ]
  },
  {
   "cell_type": "code",
   "execution_count": 5,
   "id": "a93ef8ae",
   "metadata": {},
   "outputs": [
    {
     "name": "stdout",
     "output_type": "stream",
     "text": [
      "Name:  Chuck\n",
      "Attr:  yes\n"
     ]
    }
   ],
   "source": [
    "import xml.etree.ElementTree as ET\n",
    "data = '''\n",
    "<person>\n",
    "<name>Chuck</name>\n",
    "<phone type=\"intl\">+1 734 303 4456</phone>\n",
    "<email hide=\"yes\" />\n",
    "</person>\n",
    "'''\n",
    "tree = ET.fromstring(data)\n",
    "print('Name: ', tree.find('name').text)\n",
    "print('Attr: ', tree.find('email').get('hide'))"
   ]
  },
  {
   "cell_type": "markdown",
   "id": "8046dcd4",
   "metadata": {},
   "source": [
    "### Web Services: JSON"
   ]
  },
  {
   "cell_type": "code",
   "execution_count": 13,
   "id": "5ffb88a6",
   "metadata": {},
   "outputs": [
    {
     "name": "stdout",
     "output_type": "stream",
     "text": [
      "1\n",
      "2\n",
      "3\n",
      "4\n"
     ]
    }
   ],
   "source": [
    "class PartyAnimal:\n",
    "    x = 0\n",
    "    def party(self):\n",
    "        self.x = self.x + 1\n",
    "        print(self.x)\n",
    "\n",
    "an = PartyAnimal()\n",
    "an.party()\n",
    "an.party()\n",
    "an.party()\n",
    "an.party()"
   ]
  },
  {
   "cell_type": "code",
   "execution_count": 14,
   "id": "8b8eaa9b",
   "metadata": {},
   "outputs": [
    {
     "name": "stdout",
     "output_type": "stream",
     "text": [
      "Quincy constructed\n",
      "Miya constructed\n",
      "Quincy party count 1\n",
      "Miya party count 1\n",
      "Quincy party count 2\n"
     ]
    }
   ],
   "source": [
    "class PartyAnimal:\n",
    "    x = 0\n",
    "    name = ''\n",
    "    def __init__(self, nam):\n",
    "        self.name = nam\n",
    "        print(self.name,'constructed')\n",
    "    def party(self):\n",
    "        self.x = self.x + 1\n",
    "        print(self.name,'party count',self.x)\n",
    "\n",
    "q = PartyAnimal('Quincy')\n",
    "m = PartyAnimal('Miya')\n",
    "\n",
    "q.party()\n",
    "m.party()\n",
    "q.party()\n"
   ]
  },
  {
   "cell_type": "markdown",
   "id": "8fb90b17",
   "metadata": {},
   "source": [
    "# setting theme:\n",
    "Available Themes: \n",
    "* chesterish\n",
    "* grade3\n",
    "* gruvboxd\n",
    "* gruvboxl\n",
    "* monokai\n",
    "* oceans16\n",
    "* onedork\n",
    "* solarizedd\n",
    "* solarizedl"
   ]
  },
  {
   "cell_type": "code",
   "execution_count": 18,
   "id": "730a8d8e",
   "metadata": {},
   "outputs": [],
   "source": [
    "!jt -t onedork -T -N -kl"
   ]
  },
  {
   "cell_type": "code",
   "execution_count": 4,
   "id": "166f9d88",
   "metadata": {},
   "outputs": [
    {
     "name": "stdout",
     "output_type": "stream",
     "text": [
      "Available Themes: \n",
      "   chesterish\n",
      "   grade3\n",
      "   gruvboxd\n",
      "   gruvboxl\n",
      "   monokai\n",
      "   oceans16\n",
      "   onedork\n",
      "   solarizedd\n",
      "   solarizedl\n"
     ]
    }
   ],
   "source": [
    "!jt -l"
   ]
  },
  {
   "cell_type": "markdown",
   "id": "cfbdbfd3",
   "metadata": {},
   "source": [
    "# Object Lifecycle"
   ]
  },
  {
   "cell_type": "code",
   "execution_count": 10,
   "id": "13f05199",
   "metadata": {},
   "outputs": [
    {
     "name": "stdout",
     "output_type": "stream",
     "text": [
      "I am a constructed! >>>Z\n",
      "I am a constructed! OOOOO\n",
      "I am desctructed 2\n",
      "So far  >>>Z is -> 1\n",
      "So far  >>>Z is -> 2\n",
      "So far  OOOOO is -> 1\n",
      "So far  OOOOO is -> 2\n",
      "I am desctructed 2\n",
      "an contain  45\n"
     ]
    }
   ],
   "source": [
    "class PartyAnimal:\n",
    "    x = 0\n",
    "    name = \"\"\n",
    "    def __init__(self, z=\"\"):\n",
    "        self.name = z\n",
    "        print(\"I am a constructed!\", self.name)\n",
    "    def party(self):\n",
    "        self.x = self.x + 1\n",
    "        print('So far ',self.name, 'is ->', self.x)\n",
    "    def __del__(self):\n",
    "        print('I am desctructed',self.name, self.x)\n",
    "\n",
    "an = PartyAnimal(\">>>Z\")\n",
    "an2 = PartyAnimal(\"OOOOO\")\n",
    "an.party()\n",
    "an.party()\n",
    "an2.party()\n",
    "an2.party()\n",
    "an = 45\n",
    "print('an contain ', an)"
   ]
  },
  {
   "cell_type": "code",
   "execution_count": null,
   "id": "5dde8971",
   "metadata": {},
   "outputs": [],
   "source": []
  },
  {
   "cell_type": "code",
   "execution_count": null,
   "id": "87a3c43d",
   "metadata": {},
   "outputs": [],
   "source": []
  },
  {
   "cell_type": "code",
   "execution_count": null,
   "id": "12b48b19",
   "metadata": {},
   "outputs": [],
   "source": []
  },
  {
   "cell_type": "code",
   "execution_count": null,
   "id": "81f73824",
   "metadata": {},
   "outputs": [],
   "source": []
  },
  {
   "cell_type": "code",
   "execution_count": null,
   "id": "42912abf",
   "metadata": {},
   "outputs": [],
   "source": []
  },
  {
   "cell_type": "code",
   "execution_count": null,
   "id": "da13a838",
   "metadata": {},
   "outputs": [],
   "source": []
  }
 ],
 "metadata": {
  "kernelspec": {
   "display_name": "Python 3",
   "language": "python",
   "name": "python3"
  },
  "language_info": {
   "codemirror_mode": {
    "name": "ipython",
    "version": 3
   },
   "file_extension": ".py",
   "mimetype": "text/x-python",
   "name": "python",
   "nbconvert_exporter": "python",
   "pygments_lexer": "ipython3",
   "version": "3.9.5"
  }
 },
 "nbformat": 4,
 "nbformat_minor": 5
}
